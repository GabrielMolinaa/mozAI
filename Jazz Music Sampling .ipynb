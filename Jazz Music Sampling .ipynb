{
 "cells": [
  {
   "cell_type": "code",
   "execution_count": 2,
   "metadata": {},
   "outputs": [],
   "source": [
    "import sys\n",
    "import re \n",
    "import numpy as np \n",
    "import pandas as pd\n",
    "import music21\n",
    "from glob import glob\n",
    "import IPython\n",
    "from tqdm import tqdm\n",
    "import pickle\n",
    "import tensorflow as tf\n",
    "import keras_utils\n",
    "import play\n",
    "from keras.models import Sequential\n",
    "from keras.layers import LSTM, Dropout, Dense, Bidirectional, BatchNormalization\n",
    "from keras.callbacks import ModelCheckpoint, EarlyStopping\n",
    "from sklearn.model_selection import train_test_split\n",
    "import numpy as np\n",
    "from keras.models import Sequential\n",
    "from music21 import converter, instrument, note, chord, stream\n",
    "from keras.layers import Activation, Dense, LSTM, Dropout, Flatten"
   ]
  },
  {
   "cell_type": "code",
   "execution_count": 3,
   "metadata": {},
   "outputs": [],
   "source": [
    "songs = glob('Rap/*.mid')"
   ]
  },
  {
   "cell_type": "code",
   "execution_count": 4,
   "metadata": {},
   "outputs": [],
   "source": [
    "songs = songs[::]"
   ]
  },
  {
   "cell_type": "code",
   "execution_count": 5,
   "metadata": {},
   "outputs": [],
   "source": [
    "def get_notes():\n",
    "    print(\"Obtendo notas\")\n",
    "    notes = []\n",
    "    for file in songs:\n",
    "        # converting .mid file to stream object\n",
    "        midi = converter.parse(file)\n",
    "        notes_to_parse = []\n",
    "        try:\n",
    "            # Given a single stream, partition into a part for each unique instrument\n",
    "            parts = instrument.partitionByInstrument(midi)\n",
    "        except:\n",
    "            pass\n",
    "        if parts: # if parts has instrument parts \n",
    "            notes_to_parse = parts.parts[0].recurse()\n",
    "        else:\n",
    "            notes_to_parse = midi.flat.notes\n",
    "    \n",
    "        for element in notes_to_parse: \n",
    "            if isinstance(element, note.Note):\n",
    "                # if element is a note, extract pitch\n",
    "                notes.append(str(element.pitch))\n",
    "            elif(isinstance(element, chord.Chord)):\n",
    "                # if element is a chord, append the normal form of the \n",
    "                # chord (a list of integers) to the list of notes. \n",
    "                notes.append('.'.join(str(n) for n in element.normalOrder))\n",
    "    with open('data/notes', 'wb') as filepath:\n",
    "        pickle.dump(notes, filepath)\n",
    "    return notes"
   ]
  },
  {
   "cell_type": "code",
   "execution_count": 6,
   "metadata": {},
   "outputs": [],
   "source": [
    "def prepare_sequences(notes, n_vocab): \n",
    "    sequence_length = 100\n",
    "\n",
    "    pitchnames = sorted(set(item for item in notes))\n",
    "    note_to_int = dict((note, number) for number, note in enumerate(pitchnames))\n",
    "\n",
    "    network_input = []\n",
    "    network_output = []\n",
    "\n",
    "    for i in range(0, len(notes) - sequence_length, 1):\n",
    "        sequence_in = notes[i: i + sequence_length]\n",
    "        sequence_out = notes[i + sequence_length]\n",
    "        network_input.append([note_to_int[char] for char in sequence_in])\n",
    "        network_output.append(note_to_int[sequence_out])\n",
    "    \n",
    "    n_patterns = len(network_input)\n",
    "    network_input = np.reshape(network_input, (n_patterns, sequence_length, 1))\n",
    "    network_input = network_input / float(n_vocab)\n",
    "    network_output = tf.keras.utils.to_categorical(network_output)\n",
    "    \n",
    "    return (network_input, network_output)"
   ]
  },
  {
   "cell_type": "code",
   "execution_count": 7,
   "metadata": {},
   "outputs": [],
   "source": [
    "def create_network(network_in, n_vocab): \n",
    "    \"\"\"Create the model architecture\"\"\"\n",
    "    model = Sequential()\n",
    "    model.add(LSTM(128, input_shape=network_in.shape[1:], return_sequences=True))\n",
    "    model.add(Dropout(0.2))\n",
    "    model.add(LSTM(128, return_sequences=True))\n",
    "    model.add(Flatten())\n",
    "    model.add(Dense(256))\n",
    "    model.add(Dense(256))\n",
    "    model.add(Dropout(0.3))\n",
    "    model.add(Dense(n_vocab))\n",
    "    model.add(Activation('softmax'))\n",
    "    model.compile(loss='categorical_crossentropy', optimizer='adam')\n",
    "\n",
    "    return model"
   ]
  },
  {
   "cell_type": "code",
   "execution_count": 8,
   "metadata": {},
   "outputs": [],
   "source": [
    "def train(model, network_input, network_output, epochs): \n",
    "    \"\"\"\n",
    "    Train the neural network\n",
    "    \"\"\"\n",
    "    # Create checkpoint to save the best model weights.\n",
    "    filepath = './modelo_teste.h5'\n",
    "    checkpoint = ModelCheckpoint(filepath, monitor='loss', verbose=0, save_best_only=True)\n",
    "    \n",
    "    model.fit(network_input, network_output, epochs=epochs, batch_size=32, callbacks=[checkpoint])"
   ]
  },
  {
   "cell_type": "code",
   "execution_count": 9,
   "metadata": {},
   "outputs": [],
   "source": [
    "def train_network():\n",
    "    \"\"\"\n",
    "    Obter notas\n",
    "    Gerar sequências de entrada e saída\n",
    "    Criar um modelo\n",
    "    Treinar o modelo para as épocas fornecidas\n",
    "    \"\"\"\n",
    "    epochs = 50\n",
    "\n",
    "    notes = get_notes()\n",
    "    print('Notas processadas')\n",
    "\n",
    "    n_vocab = len(set(notes))\n",
    "    print('Vocabulário gerado')\n",
    "\n",
    "    network_in, network_out = prepare_sequences(notes, n_vocab)\n",
    "    print('Entrada e Saída processadas')\n",
    "\n",
    "    model = create_network(network_in, n_vocab)\n",
    "    print('Modelo criado')\n",
    "    print('Treinamento em andamento')\n",
    "    \n",
    "    train(model, network_in, network_out, epochs)\n",
    "    print('Treinamento concluído')\n",
    "    return model"
   ]
  },
  {
   "cell_type": "code",
   "execution_count": 10,
   "metadata": {
    "scrolled": true
   },
   "outputs": [
    {
     "name": "stdout",
     "output_type": "stream",
     "text": [
      "Obtendo notas\n"
     ]
    },
    {
     "name": "stderr",
     "output_type": "stream",
     "text": [
      "C:\\Users\\idr-589796\\AppData\\Local\\Packages\\PythonSoftwareFoundation.Python.3.11_qbz5n2kfra8p0\\LocalCache\\local-packages\\Python311\\site-packages\\music21\\midi\\translate.py:874: TranslateWarning: Unable to determine instrument from <music21.midi.MidiEvent SEQUENCE_TRACK_NAME, track=0, channel=None, data=b'By Nokio-Copyrighted \\xae'>; getting generic Instrument\n",
      "  warnings.warn(\n",
      "C:\\Users\\idr-589796\\AppData\\Local\\Packages\\PythonSoftwareFoundation.Python.3.11_qbz5n2kfra8p0\\LocalCache\\local-packages\\Python311\\site-packages\\music21\\midi\\translate.py:874: TranslateWarning: Unable to determine instrument from <music21.midi.MidiEvent SEQUENCE_TRACK_NAME, track=0, channel=None, data=b'NoKiO \\xa9 2000'>; getting generic Instrument\n",
      "  warnings.warn(\n"
     ]
    },
    {
     "name": "stdout",
     "output_type": "stream",
     "text": [
      "Notas processadas\n",
      "Vocabulário gerado\n",
      "Entrada e Saída processadas\n",
      "WARNING:tensorflow:From C:\\Users\\idr-589796\\AppData\\Local\\Packages\\PythonSoftwareFoundation.Python.3.11_qbz5n2kfra8p0\\LocalCache\\local-packages\\Python311\\site-packages\\keras\\src\\backend.py:873: The name tf.get_default_graph is deprecated. Please use tf.compat.v1.get_default_graph instead.\n",
      "\n",
      "WARNING:tensorflow:From C:\\Users\\idr-589796\\AppData\\Local\\Packages\\PythonSoftwareFoundation.Python.3.11_qbz5n2kfra8p0\\LocalCache\\local-packages\\Python311\\site-packages\\keras\\src\\optimizers\\__init__.py:309: The name tf.train.Optimizer is deprecated. Please use tf.compat.v1.train.Optimizer instead.\n",
      "\n",
      "Modelo criado\n",
      "Treinamento em andamento\n",
      "Epoch 1/50\n",
      "WARNING:tensorflow:From C:\\Users\\idr-589796\\AppData\\Local\\Packages\\PythonSoftwareFoundation.Python.3.11_qbz5n2kfra8p0\\LocalCache\\local-packages\\Python311\\site-packages\\keras\\src\\utils\\tf_utils.py:492: The name tf.ragged.RaggedTensorValue is deprecated. Please use tf.compat.v1.ragged.RaggedTensorValue instead.\n",
      "\n",
      "323/323 [==============================] - 28s 79ms/step - loss: 4.5257\n",
      "Epoch 2/50\n",
      "  1/323 [..............................] - ETA: 25s - loss: 4.3209"
     ]
    },
    {
     "name": "stderr",
     "output_type": "stream",
     "text": [
      "C:\\Users\\idr-589796\\AppData\\Local\\Packages\\PythonSoftwareFoundation.Python.3.11_qbz5n2kfra8p0\\LocalCache\\local-packages\\Python311\\site-packages\\keras\\src\\engine\\training.py:3103: UserWarning: You are saving your model as an HDF5 file via `model.save()`. This file format is considered legacy. We recommend using instead the native Keras format, e.g. `model.save('my_model.keras')`.\n",
      "  saving_api.save_model(\n"
     ]
    },
    {
     "name": "stdout",
     "output_type": "stream",
     "text": [
      "323/323 [==============================] - 25s 78ms/step - loss: 4.1254\n",
      "Epoch 3/50\n",
      "323/323 [==============================] - 25s 78ms/step - loss: 3.7711\n",
      "Epoch 4/50\n",
      "323/323 [==============================] - 25s 79ms/step - loss: 3.4986\n",
      "Epoch 5/50\n",
      "323/323 [==============================] - 23s 72ms/step - loss: 3.1516\n",
      "Epoch 6/50\n",
      "323/323 [==============================] - 25s 78ms/step - loss: 2.7768\n",
      "Epoch 7/50\n",
      "323/323 [==============================] - 25s 78ms/step - loss: 2.4424\n",
      "Epoch 8/50\n",
      "323/323 [==============================] - 25s 78ms/step - loss: 2.1402\n",
      "Epoch 9/50\n",
      "323/323 [==============================] - 25s 77ms/step - loss: 1.8772\n",
      "Epoch 10/50\n",
      "323/323 [==============================] - 25s 78ms/step - loss: 1.6213\n",
      "Epoch 11/50\n",
      "323/323 [==============================] - 25s 77ms/step - loss: 1.3025\n",
      "Epoch 12/50\n",
      "323/323 [==============================] - 25s 77ms/step - loss: 0.9999\n",
      "Epoch 13/50\n",
      "323/323 [==============================] - 25s 76ms/step - loss: 0.7835\n",
      "Epoch 14/50\n",
      "323/323 [==============================] - 24s 75ms/step - loss: 0.5624\n",
      "Epoch 15/50\n",
      "323/323 [==============================] - 24s 75ms/step - loss: 0.4359\n",
      "Epoch 16/50\n",
      "323/323 [==============================] - 24s 76ms/step - loss: 0.3463\n",
      "Epoch 17/50\n",
      "323/323 [==============================] - 25s 77ms/step - loss: 0.2671\n",
      "Epoch 18/50\n",
      "323/323 [==============================] - 24s 74ms/step - loss: 0.2280\n",
      "Epoch 19/50\n",
      "323/323 [==============================] - 25s 77ms/step - loss: 0.1872\n",
      "Epoch 20/50\n",
      "323/323 [==============================] - 25s 77ms/step - loss: 0.1812\n",
      "Epoch 21/50\n",
      "323/323 [==============================] - 25s 78ms/step - loss: 0.1483\n",
      "Epoch 22/50\n",
      "323/323 [==============================] - 25s 76ms/step - loss: 0.1491\n",
      "Epoch 23/50\n",
      "323/323 [==============================] - 25s 76ms/step - loss: 0.1524\n",
      "Epoch 24/50\n",
      "323/323 [==============================] - 25s 77ms/step - loss: 0.1277\n",
      "Epoch 25/50\n",
      "323/323 [==============================] - 25s 78ms/step - loss: 0.1321\n",
      "Epoch 26/50\n",
      "323/323 [==============================] - 25s 78ms/step - loss: 0.1286\n",
      "Epoch 27/50\n",
      "323/323 [==============================] - 25s 76ms/step - loss: 0.1098\n",
      "Epoch 28/50\n",
      "323/323 [==============================] - 25s 77ms/step - loss: 0.1172\n",
      "Epoch 29/50\n",
      "323/323 [==============================] - 25s 77ms/step - loss: 0.1147\n",
      "Epoch 30/50\n",
      "323/323 [==============================] - 25s 78ms/step - loss: 0.1308\n",
      "Epoch 31/50\n",
      "323/323 [==============================] - 25s 78ms/step - loss: 0.0966\n",
      "Epoch 32/50\n",
      "323/323 [==============================] - 24s 75ms/step - loss: 0.1082\n",
      "Epoch 33/50\n",
      "323/323 [==============================] - 25s 78ms/step - loss: 0.1005\n",
      "Epoch 34/50\n",
      "323/323 [==============================] - 24s 75ms/step - loss: 0.0821\n",
      "Epoch 35/50\n",
      "323/323 [==============================] - 25s 77ms/step - loss: 0.1012\n",
      "Epoch 36/50\n",
      "323/323 [==============================] - 25s 78ms/step - loss: 0.0933\n",
      "Epoch 37/50\n",
      "323/323 [==============================] - 25s 78ms/step - loss: 0.1048\n",
      "Epoch 38/50\n",
      "323/323 [==============================] - 25s 77ms/step - loss: 0.0746\n",
      "Epoch 39/50\n",
      "323/323 [==============================] - 25s 78ms/step - loss: 0.0731\n",
      "Epoch 40/50\n",
      "323/323 [==============================] - 25s 78ms/step - loss: 0.0888\n",
      "Epoch 41/50\n",
      "323/323 [==============================] - 25s 78ms/step - loss: 0.0942\n",
      "Epoch 42/50\n",
      "323/323 [==============================] - 25s 78ms/step - loss: 0.0884\n",
      "Epoch 43/50\n",
      "323/323 [==============================] - 25s 78ms/step - loss: 0.1015\n",
      "Epoch 44/50\n",
      "323/323 [==============================] - 25s 78ms/step - loss: 0.0897\n",
      "Epoch 45/50\n",
      "323/323 [==============================] - 25s 78ms/step - loss: 0.0696\n",
      "Epoch 46/50\n",
      "323/323 [==============================] - 25s 77ms/step - loss: 0.0865\n",
      "Epoch 47/50\n",
      "323/323 [==============================] - 24s 74ms/step - loss: 0.0667\n",
      "Epoch 48/50\n",
      "323/323 [==============================] - 22s 67ms/step - loss: 0.0779\n",
      "Epoch 49/50\n",
      "323/323 [==============================] - 24s 73ms/step - loss: 0.0625\n",
      "Epoch 50/50\n",
      "323/323 [==============================] - 22s 67ms/step - loss: 0.0709\n",
      "Treinamento concluído\n"
     ]
    }
   ],
   "source": [
    "### Train the model \n",
    "model = train_network()\n",
    "model.save_weights('trained_model.h5')"
   ]
  },
  {
   "cell_type": "code",
   "execution_count": 11,
   "metadata": {},
   "outputs": [],
   "source": [
    "def get_inputSequences(notes, pitchnames, n_vocab):\n",
    "    \"\"\" Prepare the sequences used by the Neural Network \"\"\"\n",
    "    # map between notes and integers and back\n",
    "    note_to_int = dict((note, number) for number, note in enumerate(pitchnames))\n",
    "\n",
    "    sequence_length = 100\n",
    "    network_input = []\n",
    "    for i in range(0, len(notes) - sequence_length, 1):\n",
    "        sequence_in = notes[i:i + sequence_length]\n",
    "        network_input.append([note_to_int[char] for char in sequence_in])\n",
    "    \n",
    "    network_input = np.reshape(network_input, (len(network_input), 100, 1))\n",
    "    \n",
    "    return (network_input)"
   ]
  },
  {
   "cell_type": "code",
   "execution_count": 21,
   "metadata": {},
   "outputs": [],
   "source": [
    "def generate_notes(model, network_input, pitchnames, n_vocab, temperature=2.0):\n",
    "    \"\"\" Generate notes from the neural network based on a sequence of notes \"\"\"\n",
    "    # Pick a random integer\n",
    "    start = np.random.randint(0, len(network_input)-1)\n",
    "\n",
    "    int_to_note = dict((number, note) for number, note in enumerate(pitchnames))\n",
    "    \n",
    "    # pick a random sequence from the input as a starting point for the prediction\n",
    "    pattern = list(network_input[start])\n",
    "    prediction_output = []\n",
    "    \n",
    "    print('Generating notes........')\n",
    "\n",
    "    # generate 500 notes\n",
    "    for note_index in range(300):\n",
    "        prediction_input = np.reshape(pattern, (1, len(pattern), 1))\n",
    "        pattern = np.array(pattern)\n",
    "        prediction_input = prediction_input / float(n_vocab)\n",
    "\n",
    "        # Ajuste da temperatura\n",
    "        prediction = model.predict(prediction_input, verbose=0)[0]\n",
    "        prediction = np.log(prediction) / temperature\n",
    "        exp_preds = np.exp(prediction)\n",
    "        prediction = exp_preds / np.sum(exp_preds)\n",
    "\n",
    "        # Escolha aleatória com base nas probabilidades ajustadas\n",
    "        index = np.random.choice(len(prediction), p=prediction)\n",
    "        result = int_to_note[index]\n",
    "\n",
    "        # Storing the predicted output\n",
    "        prediction_output.append(result)\n",
    "\n",
    "        pattern = np.append(pattern, index)\n",
    "        pattern = pattern[1:]\n",
    "\n",
    "    print('Notes Generated...')\n",
    "    print(prediction_output)\n",
    "    return prediction_output"
   ]
  },
  {
   "cell_type": "code",
   "execution_count": 14,
   "metadata": {},
   "outputs": [],
   "source": [
    "def create_midi(prediction_output):\n",
    "    \"\"\" convert the output from the prediction to notes and create a midi file\n",
    "        from the notes \"\"\"\n",
    "    offset = 0\n",
    "    output_notes = []\n",
    "\n",
    "    # create note and chord objects based on the values generated by the model\n",
    "    for pattern in prediction_output:\n",
    "        # pattern is a chord\n",
    "        if ('.' in pattern) or pattern.isdigit():\n",
    "            notes_in_chord = pattern.split('.')\n",
    "            notes = []\n",
    "            for current_note in notes_in_chord:\n",
    "                new_note = note.Note(int(current_note))\n",
    "                new_note.storedInstrument = instrument.Piano()\n",
    "                notes.append(new_note)\n",
    "            new_chord = chord.Chord(notes)\n",
    "            new_chord.offset = offset\n",
    "            output_notes.append(new_chord)\n",
    "        # pattern is a note\n",
    "        else:\n",
    "            new_note = note.Note(pattern)\n",
    "            new_note.offset = offset\n",
    "            new_note.storedInstrument = instrument.Piano()\n",
    "            output_notes.append(new_note)\n",
    "\n",
    "        # increase offset each iteration so that notes do not stack\n",
    "        offset += 0.5\n",
    "\n",
    "    midi_stream = stream.Stream(output_notes)\n",
    "    \n",
    "    print('Saving Output file as midi....')\n",
    "\n",
    "    midi_stream.write('midi', fp='test_output4.mid')"
   ]
  },
  {
   "cell_type": "code",
   "execution_count": 15,
   "metadata": {},
   "outputs": [],
   "source": [
    "def generate():\n",
    "    \"\"\" Generate a piano midi file \"\"\"\n",
    "    #load the notes used to train the model\n",
    "    with open('data/notes', 'rb') as filepath:\n",
    "        notes = pickle.load(filepath)\n",
    "\n",
    "    # Get all pitch names\n",
    "    pitchnames = sorted(set(item for item in notes))\n",
    "    # Get all pitch names\n",
    "    n_vocab = len(set(notes))\n",
    "    \n",
    "    print('Initiating music generation process.......')\n",
    "    \n",
    "    network_input = get_inputSequences(notes, pitchnames, n_vocab)\n",
    "    normalized_input = network_input / float(n_vocab)\n",
    "    model = create_network(normalized_input, n_vocab)\n",
    "    print('Loading Model weights.....')\n",
    "    model.load_weights('./modelo_teste.h5')\n",
    "    print('Model Loaded')\n",
    "    prediction_output = generate_notes(model, network_input, pitchnames, n_vocab)\n",
    "    create_midi(prediction_output)"
   ]
  },
  {
   "cell_type": "code",
   "execution_count": 16,
   "metadata": {},
   "outputs": [
    {
     "name": "stdout",
     "output_type": "stream",
     "text": [
      "Initiating music generation process.......\n",
      "Loading Model weights.....\n",
      "Model Loaded\n",
      "Generating notes........\n"
     ]
    },
    {
     "name": "stderr",
     "output_type": "stream",
     "text": [
      "C:\\Users\\idr-589796\\AppData\\Local\\Temp\\ipykernel_1996\\1206142789.py:22: RuntimeWarning: divide by zero encountered in log\n",
      "  prediction = np.log(prediction) / temperature\n"
     ]
    },
    {
     "name": "stdout",
     "output_type": "stream",
     "text": [
      "Notes Generated...\n",
      "Saving Output file as midi....\n"
     ]
    }
   ],
   "source": [
    "\n",
    "generate()"
   ]
  },
  {
   "cell_type": "code",
   "execution_count": 20,
   "metadata": {},
   "outputs": [
    {
     "name": "stdout",
     "output_type": "stream",
     "text": [
      "Music file ./test_output4.mid loaded!\n"
     ]
    }
   ],
   "source": [
    "play.play_midi('test_output4.mid')"
   ]
  }
 ],
 "metadata": {
  "kernelspec": {
   "display_name": "Python 3",
   "language": "python",
   "name": "python3"
  },
  "language_info": {
   "codemirror_mode": {
    "name": "ipython",
    "version": 3
   },
   "file_extension": ".py",
   "mimetype": "text/x-python",
   "name": "python",
   "nbconvert_exporter": "python",
   "pygments_lexer": "ipython3",
   "version": "3.11.7"
  }
 },
 "nbformat": 4,
 "nbformat_minor": 2
}
